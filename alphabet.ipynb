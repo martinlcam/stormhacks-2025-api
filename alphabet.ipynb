{
 "cells": [
  {
   "cell_type": "markdown",
   "id": "8b3130c5",
   "metadata": {},
   "source": [
    "<h2><center>American Sign Language Detection</center></h2>"
   ]
  },
  {
   "cell_type": "markdown",
   "id": "324ba5da",
   "metadata": {},
   "source": [
    "### 1. Importing packages <a id=1></a>"
   ]
  },
  {
   "cell_type": "code",
   "execution_count": 1,
   "id": "34c37bf5",
   "metadata": {},
   "outputs": [
    {
     "name": "stdout",
     "output_type": "stream",
     "text": [
      "Packages imported...\n"
     ]
    }
   ],
   "source": [
    "# import data processing and visualisation libraries\n",
    "import numpy as np\n",
    "import pandas as pd\n",
    "import seaborn as sns\n",
    "import matplotlib.pyplot as plt\n",
    "%matplotlib inline\n",
    "\n",
    "# import image processing libraries\n",
    "import cv2\n",
    "import skimage\n",
    "from skimage.transform import resize\n",
    "\n",
    "# import tensorflow and keras\n",
    "import tensorflow as tf\n",
    "from tensorflow import keras\n",
    "import os\n",
    "\n",
    "print(\"Packages imported...\")"
   ]
  },
  {
   "cell_type": "markdown",
   "id": "c756b1bf",
   "metadata": {},
   "source": [
    "### 2. Importing the dataset from training directory <a id=2></a>"
   ]
  },
  {
   "cell_type": "code",
   "execution_count": 13,
   "id": "80ebc625",
   "metadata": {},
   "outputs": [
    {
     "name": "stdout",
     "output_type": "stream",
     "text": [
      "Images successfully imported...\n"
     ]
    }
   ],
   "source": [
    "batch_size = 64\n",
    "imageSize = 64\n",
    "target_dims = (imageSize, imageSize, 3)\n",
    "num_classes = 29\n",
    "\n",
    "train_len = 87000\n",
    "train_dir = 'data/asl-alphabet/asl_alphabet_train/asl_alphabet_train/'\n",
    "\n",
    "def get_data(folder):\n",
    "    X = np.empty((train_len, imageSize, imageSize, 3), dtype=np.float32)\n",
    "    y = np.empty((train_len,), dtype=int)\n",
    "    cnt = 0\n",
    "    for folderName in os.listdir(folder):\n",
    "        if not folderName.startswith('.'):\n",
    "            if folderName in ['A']:\n",
    "                label = 0\n",
    "            elif folderName in ['B']:\n",
    "                label = 1\n",
    "            elif folderName in ['C']:\n",
    "                label = 2\n",
    "            elif folderName in ['D']:\n",
    "                label = 3\n",
    "            elif folderName in ['E']:\n",
    "                label = 4\n",
    "            elif folderName in ['F']:\n",
    "                label = 5\n",
    "            elif folderName in ['G']:\n",
    "                label = 6\n",
    "            elif folderName in ['H']:\n",
    "                label = 7\n",
    "            elif folderName in ['I']:\n",
    "                label = 8\n",
    "            elif folderName in ['J']:\n",
    "                label = 9\n",
    "            elif folderName in ['K']:\n",
    "                label = 10\n",
    "            elif folderName in ['L']:\n",
    "                label = 11\n",
    "            elif folderName in ['M']:\n",
    "                label = 12\n",
    "            elif folderName in ['N']:\n",
    "                label = 13\n",
    "            elif folderName in ['O']:\n",
    "                label = 14\n",
    "            elif folderName in ['P']:\n",
    "                label = 15\n",
    "            elif folderName in ['Q']:\n",
    "                label = 16\n",
    "            elif folderName in ['R']:\n",
    "                label = 17\n",
    "            elif folderName in ['S']:\n",
    "                label = 18\n",
    "            elif folderName in ['T']:\n",
    "                label = 19\n",
    "            elif folderName in ['U']:\n",
    "                label = 20\n",
    "            elif folderName in ['V']:\n",
    "                label = 21\n",
    "            elif folderName in ['W']:\n",
    "                label = 22\n",
    "            elif folderName in ['X']:\n",
    "                label = 23\n",
    "            elif folderName in ['Y']:\n",
    "                label = 24\n",
    "            elif folderName in ['Z']:\n",
    "                label = 25\n",
    "            elif folderName in ['del']:\n",
    "                label = 26\n",
    "            elif folderName in ['nothing']:\n",
    "                label = 27\n",
    "            elif folderName in ['space']:\n",
    "                label = 28           \n",
    "            else:\n",
    "                label = 29\n",
    "            for image_filename in os.listdir(folder + folderName):\n",
    "                img_file = cv2.imread(folder + folderName + '/' + image_filename)\n",
    "                if img_file is not None:\n",
    "                    img_file = skimage.transform.resize(img_file, (imageSize, imageSize, 3))\n",
    "                    img_arr = np.asarray(img_file).reshape((-1, imageSize, imageSize, 3))\n",
    "                    \n",
    "                    X[cnt] = img_arr\n",
    "                    y[cnt] = label\n",
    "                    cnt += 1\n",
    "    return X,y\n",
    "\n",
    "X_train, y_train = get_data(train_dir)\n",
    "print(\"Images successfully imported...\")"
   ]
  },
  {
   "cell_type": "code",
   "execution_count": 12,
   "id": "31d9e213",
   "metadata": {},
   "outputs": [
    {
     "name": "stdout",
     "output_type": "stream",
     "text": [
      "Checking if path exists: data/asl-alphabet/asl_alphabet_train/asl_alphabet_train\n",
      "Path exists: True\n",
      "Found 29 folders:\n",
      "['A', 'B', 'C', 'D', 'del', 'E', 'F', 'G', 'H', 'I']\n",
      "\n",
      "Sample folder 'A' has 3000 images\n"
     ]
    }
   ],
   "source": [
    "# Let's verify the path exists and check what's in it\n",
    "import os\n",
    "print(f\"Checking if path exists: {train_dir}\")\n",
    "print(f\"Path exists: {os.path.exists(train_dir)}\")\n",
    "\n",
    "if os.path.exists(train_dir):\n",
    "    folders = os.listdir(train_dir)\n",
    "    print(f\"Found {len(folders)} folders:\")\n",
    "    print(folders[:10])  # Show first 10 folders\n",
    "    \n",
    "    # Check a sample folder\n",
    "    if folders:\n",
    "        sample_folder = folders[0]\n",
    "        sample_path = os.path.join(train_dir, sample_folder)\n",
    "        if os.path.isdir(sample_path):\n",
    "            images = [f for f in os.listdir(sample_path) if f.lower().endswith(('.jpg', '.png', '.jpeg'))]\n",
    "            print(f\"\\nSample folder '{sample_folder}' has {len(images)} images\")\n",
    "else:\n",
    "    print(\"❌ Path not found! Let's check the directory structure:\")\n",
    "    \n",
    "    # Check what's actually in the data directory\n",
    "    base_path = 'data/asl-alphabet'\n",
    "    if os.path.exists(base_path):\n",
    "        print(f\"\\nContents of {base_path}:\")\n",
    "        for item in os.listdir(base_path):\n",
    "            item_path = os.path.join(base_path, item)\n",
    "            if os.path.isdir(item_path):\n",
    "                print(f\"📁 {item}/\")\n",
    "                # Check subdirectories\n",
    "                for subitem in os.listdir(item_path):\n",
    "                    subitem_path = os.path.join(item_path, subitem)\n",
    "                    if os.path.isdir(subitem_path):\n",
    "                        print(f\"  📁 {subitem}/\")\n",
    "                        # Count files in this subdirectory\n",
    "                        files = [f for f in os.listdir(subitem_path) if os.path.isfile(os.path.join(subitem_path, f))]\n",
    "                        print(f\"     ({len(files)} files)\")\n",
    "            else:\n",
    "                print(f\"📄 {item}\")\n",
    "    else:\n",
    "        print(f\"❌ Base path {base_path} not found!\")"
   ]
  },
  {
   "cell_type": "markdown",
   "id": "7572a86d",
   "metadata": {},
   "source": [
    "#### 2.1 Checking the shape of data <a id=3></a>"
   ]
  },
  {
   "cell_type": "code",
   "execution_count": null,
   "id": "9a43d4b1",
   "metadata": {},
   "outputs": [
    {
     "name": "stdout",
     "output_type": "stream",
     "text": [
      "The shape of X_train is :  (87000, 64, 64, 3)\n",
      "The shape of y_train is :  (87000,)\n"
     ]
    }
   ],
   "source": [
    "print(\"The shape of X_train is : \", X_train.shape)\n",
    "print(\"The shape of y_train is : \", y_train.shape)"
   ]
  },
  {
   "cell_type": "markdown",
   "id": "d44f18d8",
   "metadata": {},
   "source": [
    "#### 2.2 Checking the shape of one image <a id=4></a>"
   ]
  },
  {
   "cell_type": "code",
   "execution_count": 14,
   "id": "0d5bccb6",
   "metadata": {},
   "outputs": [
    {
     "name": "stdout",
     "output_type": "stream",
     "text": [
      "The shape of one image is :  (64, 64, 3)\n"
     ]
    }
   ],
   "source": [
    "print(\"The shape of one image is : \", X_train[0].shape)"
   ]
  },
  {
   "cell_type": "markdown",
   "id": "5f4af6c5",
   "metadata": {},
   "source": [
    "#### 2.3 Viewing the image <a id=5></a>"
   ]
  },
  {
   "cell_type": "code",
   "execution_count": null,
   "id": "f74216a1",
   "metadata": {},
   "outputs": [
    {
     "data": {
      "image/png": "[encoded data removed]",
      "text/plain": [
       "<Figure size 432x288 with 1 Axes>"
      ]
     },
     "metadata": {},
     "output_type": "display_data"
    }
   ],
   "source": [
    "plt.imshow(X_train[0])\n",
    "plt.show()"
   ]
  },
  {
   "cell_type": "markdown",
   "id": "0bbcfb0d",
   "metadata": {},
   "source": [
    "##### 2.3.1 Making copies of original data"
   ]
  },
  {
   "cell_type": "code",
   "execution_count": null,
   "id": "aabf7830",
   "metadata": {},
   "outputs": [
    {
     "name": "stdout",
     "output_type": "stream",
     "text": [
      "Copies made...\n"
     ]
    }
   ],
   "source": [
    "X_data = X_train\n",
    "y_data = y_train\n",
    "print(\"Copies made...\")"
   ]
  },
  {
   "cell_type": "markdown",
   "id": "302f104c",
   "metadata": {},
   "source": [
    "### 3. Data processing <a id=6></a>"
   ]
  },
  {
   "cell_type": "markdown",
   "id": "aff5a5c3",
   "metadata": {},
   "source": [
    "#### 3.1 Train/test split <a id=7></a>"
   ]
  },
  {
   "cell_type": "code",
   "execution_count": null,
   "id": "67f088c1",
   "metadata": {},
   "outputs": [],
   "source": [
    "from sklearn.model_selection import train_test_split\n",
    "\n",
    "X_train, X_test, y_train, y_test = train_test_split(X_data, y_data, test_size=0.3,random_state=42,stratify=y_data)"
   ]
  },
  {
   "cell_type": "markdown",
   "id": "362b5aef",
   "metadata": {},
   "source": [
    "#### 3.2 One-Hot-Encoding <a id=8></a>"
   ]
  },
  {
   "cell_type": "code",
   "execution_count": null,
   "id": "a9305045",
   "metadata": {},
   "outputs": [],
   "source": [
    "# One-Hot-Encoding the categorical data\n",
    "from tensorflow.keras.utils import to_categorical\n",
    "y_cat_train = to_categorical(y_train,29)\n",
    "y_cat_test = to_categorical(y_test,29)"
   ]
  },
  {
   "cell_type": "markdown",
   "id": "d829adb9",
   "metadata": {},
   "source": [
    "#### 3.3 Dimension Check of variables <a id=9></a>"
   ]
  },
  {
   "cell_type": "code",
   "execution_count": null,
   "id": "a0900ff1",
   "metadata": {},
   "outputs": [
    {
     "name": "stdout",
     "output_type": "stream",
     "text": [
      "(60900, 64, 64, 3)\n",
      "(60900,)\n",
      "(26100, 64, 64, 3)\n",
      "(26100,)\n",
      "(60900, 29)\n",
      "(26100, 29)\n"
     ]
    }
   ],
   "source": [
    "# Checking the dimensions of all the variables\n",
    "print(X_train.shape)\n",
    "print(y_train.shape)\n",
    "print(X_test.shape)\n",
    "print(y_test.shape)\n",
    "print(y_cat_train.shape)\n",
    "print(y_cat_test.shape)"
   ]
  },
  {
   "cell_type": "markdown",
   "id": "fda11eb2",
   "metadata": {},
   "source": [
    "### 4. Garbage Collection <a id=10></a>"
   ]
  },
  {
   "cell_type": "code",
   "execution_count": null,
   "id": "b6f9e580",
   "metadata": {},
   "outputs": [
    {
     "data": {
      "text/plain": [
       "2483"
      ]
     },
     "metadata": {},
     "output_type": "display_data"
    }
   ],
   "source": [
    "# This is done to save CPU and RAM space while working on Kaggle Kernels. This will delete the specified data and save some space!\n",
    "import gc\n",
    "del X_data\n",
    "del y_data\n",
    "gc.collect()"
   ]
  },
  {
   "cell_type": "markdown",
   "id": "f6dfad06",
   "metadata": {},
   "source": [
    "### 5. Modeling <a id=11></a>"
   ]
  },
  {
   "cell_type": "markdown",
   "id": "abb4bb12",
   "metadata": {},
   "source": [
    "#### 5.1 Importing packages <a id=12></a>"
   ]
  },
  {
   "cell_type": "code",
   "execution_count": null,
   "id": "6b821318",
   "metadata": {},
   "outputs": [
    {
     "name": "stdout",
     "output_type": "stream",
     "text": [
      "Packages imported...\n"
     ]
    }
   ],
   "source": [
    "from keras.models import Sequential\n",
    "from keras.layers import Conv2D, MaxPooling2D, Activation, Dense, Flatten\n",
    "print(\"Packages imported...\")"
   ]
  },
  {
   "cell_type": "markdown",
   "id": "424aa171",
   "metadata": {},
   "source": [
    "#### 5.2 Building model <a id=13></a>"
   ]
  },
  {
   "cell_type": "code",
   "execution_count": null,
   "id": "cada8c37",
   "metadata": {},
   "outputs": [
    {
     "name": "stdout",
     "output_type": "stream",
     "text": [
      "Model: \"sequential\"\n",
      "_________________________________________________________________\n",
      "Layer (type)                 Output Shape              Param #   \n",
      "=================================================================\n",
      "conv2d (Conv2D)              (None, 60, 60, 32)        2432      \n",
      "_________________________________________________________________\n",
      "activation (Activation)      (None, 60, 60, 32)        0         \n",
      "_________________________________________________________________\n",
      "max_pooling2d (MaxPooling2D) (None, 30, 30, 32)        0         \n",
      "_________________________________________________________________\n",
      "conv2d_1 (Conv2D)            (None, 28, 28, 64)        18496     \n",
      "_________________________________________________________________\n",
      "activation_1 (Activation)    (None, 28, 28, 64)        0         \n",
      "_________________________________________________________________\n",
      "max_pooling2d_1 (MaxPooling2 (None, 14, 14, 64)        0         \n",
      "_________________________________________________________________\n",
      "conv2d_2 (Conv2D)            (None, 12, 12, 64)        36928     \n",
      "_________________________________________________________________\n",
      "activation_2 (Activation)    (None, 12, 12, 64)        0         \n",
      "_________________________________________________________________\n",
      "max_pooling2d_2 (MaxPooling2 (None, 6, 6, 64)          0         \n",
      "_________________________________________________________________\n",
      "flatten (Flatten)            (None, 2304)              0         \n",
      "_________________________________________________________________\n",
      "dense (Dense)                (None, 128)               295040    \n",
      "_________________________________________________________________\n",
      "dense_1 (Dense)              (None, 29)                3741      \n",
      "=================================================================\n",
      "Total params: 356,637\n",
      "Trainable params: 356,637\n",
      "Non-trainable params: 0\n",
      "_________________________________________________________________\n"
     ]
    }
   ],
   "source": [
    "model = Sequential()\n",
    "\n",
    "model.add(Conv2D(32, (5, 5), input_shape=(64, 64, 3)))\n",
    "model.add(Activation('relu'))\n",
    "model.add(MaxPooling2D((2, 2)))\n",
    "\n",
    "model.add(Conv2D(64, (3, 3)))\n",
    "model.add(Activation('relu'))\n",
    "model.add(MaxPooling2D((2, 2)))\n",
    "\n",
    "model.add(Conv2D(64, (3, 3)))\n",
    "model.add(Activation('relu'))\n",
    "model.add(MaxPooling2D((2, 2)))\n",
    "\n",
    "model.add(Flatten())\n",
    "\n",
    "model.add(Dense(128, activation='relu'))\n",
    "\n",
    "model.add(Dense(29, activation='softmax'))\n",
    "\n",
    "model.summary()"
   ]
  },
  {
   "cell_type": "markdown",
   "id": "382b3c6c",
   "metadata": {},
   "source": [
    "#### 5.3 Early Stopping and Compiling <a id=14></a>"
   ]
  },
  {
   "cell_type": "markdown",
   "id": "894b0c51",
   "metadata": {},
   "source": [
    "##### 5.3.1 Early Stopping"
   ]
  },
  {
   "cell_type": "markdown",
   "id": "108d600d",
   "metadata": {},
   "source": [
    "Early Stopping is done to make sure the model fitting stops at the most optimized accuracy point. After the early stopping point, the model might start overfitting. For testing purposes, this step can be skipped and complete training can be done."
   ]
  },
  {
   "cell_type": "code",
   "execution_count": null,
   "id": "e66cee30",
   "metadata": {},
   "outputs": [],
   "source": [
    "from tensorflow.keras.callbacks import EarlyStopping\n",
    "early_stop = EarlyStopping(monitor='val_loss',patience=2)"
   ]
  },
  {
   "cell_type": "markdown",
   "id": "9e237161",
   "metadata": {},
   "source": [
    "##### 5.3.2 Compiling"
   ]
  },
  {
   "cell_type": "code",
   "execution_count": null,
   "id": "49af6bf3",
   "metadata": {},
   "outputs": [],
   "source": [
    "model.compile(optimizer='adam',\n",
    "              loss='categorical_crossentropy',\n",
    "              metrics=['accuracy'])"
   ]
  },
  {
   "cell_type": "markdown",
   "id": "a0aa28ab",
   "metadata": {},
   "source": [
    "#### 5.4 Model fitting <a id=15></a>"
   ]
  },
  {
   "cell_type": "code",
   "execution_count": null,
   "id": "51a05383",
   "metadata": {},
   "outputs": [
    {
     "name": "stdout",
     "output_type": "stream",
     "text": [
      "Epoch 1/50\n",
      "952/952 - 8s - loss: 1.0265 - accuracy: 0.6920 - val_loss: 0.2371 - val_accuracy: 0.9224\n",
      "Epoch 2/50\n",
      "952/952 - 7s - loss: 0.1369 - accuracy: 0.9565 - val_loss: 0.0739 - val_accuracy: 0.9772\n",
      "Epoch 3/50\n",
      "952/952 - 7s - loss: 0.0726 - accuracy: 0.9778 - val_loss: 0.0732 - val_accuracy: 0.9769\n",
      "Epoch 4/50\n",
      "952/952 - 7s - loss: 0.0521 - accuracy: 0.9844 - val_loss: 0.0334 - val_accuracy: 0.9905\n",
      "Epoch 5/50\n",
      "952/952 - 7s - loss: 0.0424 - accuracy: 0.9878 - val_loss: 0.0464 - val_accuracy: 0.9855\n",
      "Epoch 6/50\n",
      "952/952 - 7s - loss: 0.0323 - accuracy: 0.9903 - val_loss: 0.0271 - val_accuracy: 0.9918\n",
      "Epoch 7/50\n",
      "952/952 - 7s - loss: 0.0287 - accuracy: 0.9914 - val_loss: 0.0229 - val_accuracy: 0.9936\n",
      "Epoch 8/50\n",
      "952/952 - 7s - loss: 0.0277 - accuracy: 0.9917 - val_loss: 0.0252 - val_accuracy: 0.9933\n",
      "Epoch 9/50\n",
      "952/952 - 7s - loss: 0.0271 - accuracy: 0.9925 - val_loss: 0.0251 - val_accuracy: 0.9927\n"
     ]
    },
    {
     "data": {
      "text/plain": [
       "<tensorflow.python.keras.callbacks.History at 0x7f6c94279a90>"
      ]
     },
     "metadata": {},
     "output_type": "display_data"
    }
   ],
   "source": [
    "model.fit(X_train, y_cat_train,\n",
    "          epochs=50,\n",
    "          batch_size=64,\n",
    "          verbose=2,\n",
    "          validation_data=(X_test, y_cat_test),\n",
    "         callbacks=[early_stop])"
   ]
  },
  {
   "cell_type": "markdown",
   "id": "67daaf90",
   "metadata": {},
   "source": [
    "#### 5.5 Model metrics <a id=16></a>"
   ]
  },
  {
   "cell_type": "markdown",
   "id": "079eec9c",
   "metadata": {},
   "source": [
    "##### 5.5.1 Metrics from model history"
   ]
  },
  {
   "cell_type": "code",
   "execution_count": null,
   "id": "81a45a42",
   "metadata": {},
   "outputs": [
    {
     "name": "stdout",
     "output_type": "stream",
     "text": [
      "The model metrics are\n"
     ]
    },
    {
     "data": {
      "text/html": [
       "<div>\n",
       "<style scoped>\n",
       "    .dataframe tbody tr th:only-of-type {\n",
       "        vertical-align: middle;\n",
       "    }\n",
       "\n",
       "    .dataframe tbody tr th {\n",
       "        vertical-align: top;\n",
       "    }\n",
       "\n",
       "    .dataframe thead th {\n",
       "        text-align: right;\n",
       "    }\n",
       "</style>\n",
       "<table border=\"1\" class=\"dataframe\">\n",
       "  <thead>\n",
       "    <tr style=\"text-align: right;\">\n",
       "      <th></th>\n",
       "      <th>loss</th>\n",
       "      <th>accuracy</th>\n",
       "      <th>val_loss</th>\n",
       "      <th>val_accuracy</th>\n",
       "    </tr>\n",
       "  </thead>\n",
       "  <tbody>\n",
       "    <tr>\n",
       "      <th>0</th>\n",
       "      <td>1.026477</td>\n",
       "      <td>0.692003</td>\n",
       "      <td>0.237056</td>\n",
       "      <td>0.922414</td>\n",
       "    </tr>\n",
       "    <tr>\n",
       "      <th>1</th>\n",
       "      <td>0.136943</td>\n",
       "      <td>0.956502</td>\n",
       "      <td>0.073942</td>\n",
       "      <td>0.977203</td>\n",
       "    </tr>\n",
       "    <tr>\n",
       "      <th>2</th>\n",
       "      <td>0.072560</td>\n",
       "      <td>0.977800</td>\n",
       "      <td>0.073244</td>\n",
       "      <td>0.976935</td>\n",
       "    </tr>\n",
       "    <tr>\n",
       "      <th>3</th>\n",
       "      <td>0.052082</td>\n",
       "      <td>0.984401</td>\n",
       "      <td>0.033399</td>\n",
       "      <td>0.990460</td>\n",
       "    </tr>\n",
       "    <tr>\n",
       "      <th>4</th>\n",
       "      <td>0.042415</td>\n",
       "      <td>0.987816</td>\n",
       "      <td>0.046446</td>\n",
       "      <td>0.985479</td>\n",
       "    </tr>\n",
       "    <tr>\n",
       "      <th>5</th>\n",
       "      <td>0.032327</td>\n",
       "      <td>0.990345</td>\n",
       "      <td>0.027106</td>\n",
       "      <td>0.991839</td>\n",
       "    </tr>\n",
       "    <tr>\n",
       "      <th>6</th>\n",
       "      <td>0.028742</td>\n",
       "      <td>0.991363</td>\n",
       "      <td>0.022894</td>\n",
       "      <td>0.993640</td>\n",
       "    </tr>\n",
       "    <tr>\n",
       "      <th>7</th>\n",
       "      <td>0.027655</td>\n",
       "      <td>0.991691</td>\n",
       "      <td>0.025223</td>\n",
       "      <td>0.993333</td>\n",
       "    </tr>\n",
       "    <tr>\n",
       "      <th>8</th>\n",
       "      <td>0.027121</td>\n",
       "      <td>0.992529</td>\n",
       "      <td>0.025146</td>\n",
       "      <td>0.992720</td>\n",
       "    </tr>\n",
       "  </tbody>\n",
       "</table>\n",
       "</div>"
      ],
      "text/plain": [
       "       loss  accuracy  val_loss  val_accuracy\n",
       "0  1.026477  0.692003  0.237056      0.922414\n",
       "1  0.136943  0.956502  0.073942      0.977203\n",
       "2  0.072560  0.977800  0.073244      0.976935\n",
       "3  0.052082  0.984401  0.033399      0.990460\n",
       "4  0.042415  0.987816  0.046446      0.985479\n",
       "5  0.032327  0.990345  0.027106      0.991839\n",
       "6  0.028742  0.991363  0.022894      0.993640\n",
       "7  0.027655  0.991691  0.025223      0.993333\n",
       "8  0.027121  0.992529  0.025146      0.992720"
      ]
     },
     "metadata": {},
     "output_type": "display_data"
    }
   ],
   "source": [
    "metrics = pd.DataFrame(model.history.history)\n",
    "print(\"The model metrics are\")\n",
    "metrics"
   ]
  },
  {
   "cell_type": "markdown",
   "id": "c8a33d56",
   "metadata": {},
   "source": [
    "##### 5.5.2 Plotting the training loss"
   ]
  },
  {
   "cell_type": "code",
   "execution_count": null,
   "id": "415ef479",
   "metadata": {},
   "outputs": [
    {
     "data": {
      "image/png": "[encoded data removed]",
      "text/plain": [
       "<Figure size 432x288 with 1 Axes>"
      ]
     },
     "metadata": {},
     "output_type": "display_data"
    }
   ],
   "source": [
    "metrics[['loss','val_loss']].plot()\n",
    "plt.show()"
   ]
  },
  {
   "cell_type": "markdown",
   "id": "6af71ea8",
   "metadata": {},
   "source": [
    "##### 5.5.3 Plotting the testing loss"
   ]
  },
  {
   "cell_type": "code",
   "execution_count": null,
   "id": "8fd6d158",
   "metadata": {},
   "outputs": [
    {
     "data": {
      "image/png": "[encoded data removed]",
      "text/plain": [
       "<Figure size 432x288 with 1 Axes>"
      ]
     },
     "metadata": {},
     "output_type": "display_data"
    }
   ],
   "source": [
    "metrics[['accuracy','val_accuracy']].plot()\n",
    "plt.show()"
   ]
  },
  {
   "cell_type": "markdown",
   "id": "7b8acfd3",
   "metadata": {},
   "source": [
    "##### 5.5.4 Model evaluation"
   ]
  },
  {
   "cell_type": "code",
   "execution_count": null,
   "id": "95526a17",
   "metadata": {},
   "outputs": [
    {
     "data": {
      "text/plain": [
       "[0.02514614351093769, 0.9927203059196472]"
      ]
     },
     "metadata": {},
     "output_type": "display_data"
    }
   ],
   "source": [
    "model.evaluate(X_test,y_cat_test,verbose=0)"
   ]
  },
  {
   "cell_type": "markdown",
   "id": "24e69601",
   "metadata": {},
   "source": [
    "#### 5.6 Predictions <a id=17></a>"
   ]
  },
  {
   "cell_type": "code",
   "execution_count": null,
   "id": "350bc8ae",
   "metadata": {},
   "outputs": [
    {
     "name": "stdout",
     "output_type": "stream",
     "text": [
      "Predictions done...\n"
     ]
    }
   ],
   "source": [
    "predictions = model.predict_classes(X_test)\n",
    "print(\"Predictions done...\")"
   ]
  },
  {
   "cell_type": "markdown",
   "id": "950fbbe2",
   "metadata": {},
   "source": [
    "##### 5.6.1 Classification report"
   ]
  },
  {
   "cell_type": "code",
   "execution_count": null,
   "id": "9e865ab3",
   "metadata": {},
   "outputs": [
    {
     "name": "stdout",
     "output_type": "stream",
     "text": [
      "              precision    recall  f1-score   support\n",
      "\n",
      "           0       1.00      1.00      1.00       900\n",
      "           1       1.00      0.97      0.98       900\n",
      "           2       1.00      1.00      1.00       900\n",
      "           3       1.00      1.00      1.00       900\n",
      "           4       0.99      0.99      0.99       900\n",
      "           5       1.00      1.00      1.00       900\n",
      "           6       1.00      0.97      0.99       900\n",
      "           7       1.00      0.99      0.99       900\n",
      "           8       0.99      1.00      0.99       900\n",
      "           9       0.99      1.00      1.00       900\n",
      "          10       0.99      0.96      0.98       900\n",
      "          11       0.99      1.00      1.00       900\n",
      "          12       1.00      0.99      0.99       900\n",
      "          13       0.99      1.00      0.99       900\n",
      "          14       1.00      0.99      1.00       900\n",
      "          15       0.98      1.00      0.99       900\n",
      "          16       1.00      1.00      1.00       900\n",
      "          17       0.97      0.98      0.98       900\n",
      "          18       0.99      0.99      0.99       900\n",
      "          19       1.00      0.99      0.99       900\n",
      "          20       0.98      0.98      0.98       900\n",
      "          21       0.95      0.99      0.97       900\n",
      "          22       0.99      1.00      1.00       900\n",
      "          23       1.00      1.00      1.00       900\n",
      "          24       1.00      1.00      1.00       900\n",
      "          25       1.00      1.00      1.00       900\n",
      "          26       1.00      1.00      1.00       900\n",
      "          27       1.00      1.00      1.00       900\n",
      "          28       1.00      1.00      1.00       900\n",
      "\n",
      "    accuracy                           0.99     26100\n",
      "   macro avg       0.99      0.99      0.99     26100\n",
      "weighted avg       0.99      0.99      0.99     26100\n",
      "\n"
     ]
    }
   ],
   "source": [
    "from sklearn.metrics import classification_report, confusion_matrix\n",
    "print(classification_report(y_test,predictions))"
   ]
  },
  {
   "cell_type": "markdown",
   "id": "33743b29",
   "metadata": {},
   "source": [
    "##### 5.6.2 Confusion matrix heatmap"
   ]
  },
  {
   "cell_type": "code",
   "execution_count": null,
   "id": "a68330c8",
   "metadata": {},
   "outputs": [
    {
     "data": {
      "image/png": "[encoded data removed]",
      "text/plain": [
       "<Figure size 864x864 with 2 Axes>"
      ]
     },
     "metadata": {},
     "output_type": "display_data"
    }
   ],
   "source": [
    "plt.figure(figsize=(12,12))\n",
    "sns.heatmap(confusion_matrix(y_test,predictions))\n",
    "plt.show()"
   ]
  },
  {
   "cell_type": "markdown",
   "id": "95a4ed50",
   "metadata": {},
   "source": [
    "#### 5.7 Saving the model <a id=18></a>"
   ]
  },
  {
   "cell_type": "code",
   "execution_count": null,
   "id": "adf776f4",
   "metadata": {},
   "outputs": [
    {
     "name": "stdout",
     "output_type": "stream",
     "text": [
      "Model saved successfully...\n"
     ]
    }
   ],
   "source": [
    "# from keras.models import load_model\n",
    "# model.save('ASL.h5')\n",
    "print(\"Model saved successfully...\")"
   ]
  },
  {
   "cell_type": "markdown",
   "id": "786b3d8a",
   "metadata": {},
   "source": [
    "[back to top](#19)"
   ]
  },
  {
   "cell_type": "markdown",
   "id": "f6b47b34",
   "metadata": {},
   "source": [
    "### If you liked the notebook, consider giving an upvote.\n",
    "\n",
    "Check my other notebooks\n",
    "1. https://www.kaggle.com/namanmanchanda/rnn-in-pytorch\n",
    "2. https://www.kaggle.com/namanmanchanda/pytorch-101\n",
    "3. https://www.kaggle.com/namanmanchanda/red-wine-eda-and-classification\n",
    "4. https://www.kaggle.com/namanmanchanda/heart-attack-eda-prediction-90-accuracy"
   ]
  },
  {
   "cell_type": "code",
   "execution_count": null,
   "id": "989a7711",
   "metadata": {},
   "outputs": [],
   "source": []
  }
 ],
 "metadata": {
  "kernelspec": {
   "display_name": "venv",
   "language": "python",
   "name": "python3"
  },
  "language_info": {
   "codemirror_mode": {
    "name": "ipython",
    "version": 3
   },
   "file_extension": ".py",
   "mimetype": "text/x-python",
   "name": "python",
   "nbconvert_exporter": "python",
   "pygments_lexer": "ipython3",
   "version": "3.13.1"
  }
 },
 "nbformat": 4,
 "nbformat_minor": 5
}
